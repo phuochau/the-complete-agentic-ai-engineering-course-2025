{
 "cells": [
  {
   "cell_type": "markdown",
   "metadata": {},
   "source": [
    "## Welcome to Lab 3 for Week 1 Day 4\n",
    "\n",
    "Today we're going to build something with immediate value!\n",
    "\n",
    "In the folder `me` I've put a single file `linkedin.pdf` - it's a PDF download of my LinkedIn profile.\n",
    "\n",
    "Please replace it with yours!\n",
    "\n",
    "I've also made a file called `summary.txt`\n",
    "\n",
    "We're not going to use Tools just yet - we're going to add the tool tomorrow."
   ]
  },
  {
   "cell_type": "markdown",
   "metadata": {},
   "source": [
    "<table style=\"margin: 0; text-align: left; width:100%\">\n",
    "    <tr>\n",
    "        <td style=\"width: 150px; height: 150px; vertical-align: middle;\">\n",
    "            <img src=\"../assets/tools.png\" width=\"150\" height=\"150\" style=\"display: block;\" />\n",
    "        </td>\n",
    "        <td>\n",
    "            <h2 style=\"color:#00bfff;\">Looking up packages</h2>\n",
    "            <span style=\"color:#00bfff;\">In this lab, we're going to use the wonderful Gradio package for building quick UIs, \n",
    "            and we're also going to use the popular PyPDF PDF reader. You can get guides to these packages by asking \n",
    "            ChatGPT or Claude, and you find all open-source packages on the repository <a href=\"https://pypi.org\">https://pypi.org</a>.\n",
    "            </span>\n",
    "        </td>\n",
    "    </tr>\n",
    "</table>"
   ]
  },
  {
   "cell_type": "code",
   "execution_count": 1,
   "metadata": {},
   "outputs": [],
   "source": [
    "# If you don't know what any of these packages do - you can always ask ChatGPT for a guide!\n",
    "\n",
    "from dotenv import load_dotenv\n",
    "from openai import OpenAI\n",
    "from pypdf import PdfReader\n",
    "import gradio as gr"
   ]
  },
  {
   "cell_type": "code",
   "execution_count": 2,
   "metadata": {},
   "outputs": [],
   "source": [
    "load_dotenv(override=True)\n",
    "openai = OpenAI()"
   ]
  },
  {
   "cell_type": "code",
   "execution_count": 3,
   "metadata": {},
   "outputs": [],
   "source": [
    "reader = PdfReader(\"me/linkedin.pdf\")\n",
    "linkedin = \"\"\n",
    "for page in reader.pages:\n",
    "    text = page.extract_text()\n",
    "    if text:\n",
    "        linkedin += text"
   ]
  },
  {
   "cell_type": "code",
   "execution_count": 4,
   "metadata": {},
   "outputs": [
    {
     "name": "stdout",
     "output_type": "stream",
     "text": [
      "   \n",
      "Contact\n",
      "hau.vophuoc@gmail.com\n",
      "www.linkedin.com/in/hauvo\n",
      "(LinkedIn)\n",
      "www.hauvo.me/ (Personal)\n",
      "Top Skills\n",
      "Cross-functional Team Leadership\n",
      "Enterprise Software\n",
      "IT Strategy\n",
      "Languages\n",
      "English (Professional Working)\n",
      "Vietnamese (Native or Bilingual)\n",
      "Certifications\n",
      "AI for Everyone\n",
      "Honors-Awards\n",
      "Top 100 for Startup Bootcamp\n",
      "Top 60 StartupWheel 2015 in\n",
      "Vietnam\n",
      "Semi-final of StartupWheel 2016\n",
      "Final-list in GIST bootcamp 2016\n",
      "Hau Vo Phuoc\n",
      "Startup-Focused Software Architect | MVP Builder | Ex-CIO\n",
      "Ho Chi Minh City, Vietnam\n",
      "Summary\n",
      "I'm passionate about building impactful tech products that solve\n",
      "real-world problems and improve people’s lives at scale. With a\n",
      "deep curiosity for innovation, I’m constantly exploring new ideas,\n",
      "technologies, and ways to turn vision into usable, scalable software.\n",
      "Over the past decade, I’ve worn many hats—software engineer,\n",
      "technical leader, CIO, and startup founder. These diverse roles have\n",
      "shaped me into someone who not only understands how to code but\n",
      "also how to build products, lead teams, and align technology with\n",
      "business goals.\n",
      "What I Bring to the Table:\n",
      "From Idea to MVP to Millions of Users\n",
      "I can take a raw idea, define product stories, create wireframes, and\n",
      "turn it into a working MVP. (Sketch is my hobby!)\n",
      "I design scalable architectures that support rapid validation and\n",
      "future growth.\n",
      "I plan development roadmaps that align tightly with business\n",
      "timelines.\n",
      "Strong Technical Leadership & Team Building\n",
      "Led teams of up to 20 across development, QA, and design.\n",
      "I build collaborative, respectful environments where talent thrives.\n",
      "I focus on team success, not egos—and lead with humility, honesty,\n",
      "and support.\n",
      "Lifelong Learner & Multi-Domain Thinker\n",
      "  Page 1 of 8   \n",
      "I constantly upskill in tech, product, growth hacking, and decision-\n",
      "making.\n",
      "I'm calm under pressure and driven by a desire to solve hard\n",
      "problems.\n",
      "I’m open to new challenges and love working on meaningful,\n",
      "innovative ideas.\n",
      "Outside of work, I’m a proud parent who believes family teaches\n",
      "responsibility in the best way. I enjoy connecting with others over\n",
      "product development, startups, new tech—and occasionally, a good\n",
      "game of table tennis.\n",
      "Specialties:\n",
      "Product Development • Technical Architecture • Startup MVPs •\n",
      "Tech Team Leadership • Scalable Systems • Product Discovery &\n",
      "Brainstorming\n",
      "Let’s connect if you’d like to talk startups, building tech products, or\n",
      "just share ideas.\n",
      "Experience\n",
      "Ayyeka\n",
      "Senior Software Engineer\n",
      "December 2020 - Present (4 years 10 months)\n",
      "Jerusalem, Israel\n",
      "Ayyeka delivers end-to-end industrial IoT solutions, combining hardware,\n",
      "software, and machine learning to bring resilience and data intelligence to\n",
      "critical infrastructure across industries.\n",
      "At Ayyeka, I play a cross-functional role across multiple teams and products:\n",
      "- Mobile Development: Led development of the AyyekaGo mobile app,\n",
      "enabling field engineers and technicians to connect with Wavelet devices,\n",
      "perform on-site diagnostics, and sync with cloud infrastructure in real time.\n",
      "  Page 2 of 8   \n",
      "- Backend Engineering: Contributed to the FAI Platform—a robust backend\n",
      "system for collecting, processing, and monetizing field asset data. Designed\n",
      "scalable APIs, improved system performance, and enhanced reliability for\n",
      "industrial data workflows.\n",
      "- Frontend Development: Implemented and maintained intuitive, responsive\n",
      "interfaces for both internal users and external clients, streamlining access to\n",
      "critical field data and configuration tools.\n",
      "- Cross-Team Collaboration: Worked closely with firmware, hardware, product,\n",
      "and QA teams to ensure seamless integration across the entire IoT stack—\n",
      "from edge devices to cloud analytics.\n",
      "- Tech Stack Highlights: Node.js, Angular, ASP.net, Go, MySQL, Docker,\n",
      "AWS, React Native, BLE, CI/CD, and more.\n",
      "My work supports a wide range of industries—from water utilities to smart\n",
      "cities—helping clients unlock real-time insights and ensure operational\n",
      "resilience in the field.\n",
      "Invygo\n",
      "Lead Mobile Engineer\n",
      "January 2019 - December 2020 (2 years)\n",
      "Dubai, United Arab Emirates\n",
      "Invygo is a fast-growing car subscription startup based in Dubai, backed by\n",
      "$2M+ in funding and serving 50K+ users across the UAE and Saudi Arabia.\n",
      "As one of the earliest engineers, I played a key role in transforming the vision\n",
      "into a live, scalable product:\n",
      "️ Designed and Built the MVP in Just 1 Month\n",
      "Architected and developed the initial product from scratch, enabling car\n",
      "bookings and subscriptions with a seamless mobile experience.\n",
      "‍‍ Team Leadership\n",
      "Led the mobile engineering team, driving architecture decisions, mentoring\n",
      "developers, and ensuring delivery of high-quality features.\n",
      "Scaled Backend for Regional Expansion\n",
      "  Page 3 of 8   \n",
      "Contributed significantly (30%+ of my time) to upgrading the backend\n",
      "architecture, enabling Invygo to scale efficiently across multiple countries.\n",
      "Drove Product & Business Innovation\n",
      "Actively contributed ideas to improve user experience, streamline onboarding,\n",
      "and support new subscription models—impacting customer acquisition and\n",
      "retention.\n",
      "LittleLives Inc\n",
      "Front-end Lead Engineer\n",
      "January 2017 - January 2019 (2 years 1 month)\n",
      "Singapore\n",
      "LittleLives is an EdTech company providing digital solutions to help\n",
      "schools, teachers, parents, and students streamline daily operations and\n",
      "communication.\n",
      "As part of a small but highly capable engineering team, I contributed across\n",
      "the full stack—from backend services to mobile and web applications—driving\n",
      "meaningful impact for thousands of educators and families.\n",
      "Key Contributions:\n",
      "Full-Stack Development Across Multiple Products\n",
      "Worked on both mobile (React Native) and web applications (ReactJS,\n",
      "VueJS), as well as backend systems (Elixir, Node.js). Each developer typically\n",
      "owns 2–3 applications, supporting various users—from school staff to parents\n",
      "and students.\n",
      "Co-Creator of the LittleLives Design System 1.0\n",
      "Collaborated closely with design to standardize UI/UX across platforms,\n",
      "inspired by systems from top startups like Airbnb and Dropbox. This improved\n",
      "development speed and product consistency.\n",
      "Built a Scalable Internal UI Component Library\n",
      "Led the development of a Vue.js component library based on the Bulma\n",
      "CSS framework, featuring 35+ modular components. The library enabled fast\n",
      "prototyping and clean, maintainable code across web projects. (Demo: https://\n",
      "teamlittlelives.github.io/six-ui-components/ — link subject to change)\n",
      "Culture of Continuous Learning\n",
      "  Page 4 of 8   \n",
      "As a team, we embrace learning new technologies and patterns when they\n",
      "benefit the product and users—constantly evolving to build better tools for\n",
      "education.\n",
      "Antking\n",
      "2 years 5 months\n",
      "Chief Information Officer\n",
      "January 2015 - December 2016 (2 years)\n",
      "Vietnam\n",
      "- Foster a Positive and Collaborative Team Culture\n",
      "- Enhance Team Skills and Competencies through training and development\n",
      "initiatives.\n",
      "- Conduct Research to Create or Improve Organizational Tools for greater\n",
      "efficiency and productivity.\n",
      "- Identify and Recommend Innovative Business Software Solutions to drive\n",
      "operational improvements.\n",
      "- Collaborate with the Marketing Team to raise awareness and expand\n",
      "Antking’s reach to a wider audience.\n",
      "Web Team Lead\n",
      "August 2014 - January 2015 (6 months)\n",
      "Vietnam\n",
      "- Conduct In-Depth Research to deliver optimal solutions tailored to customer\n",
      "needs.\n",
      "- Oversee Project Timelines and Resource Allocation to ensure efficient\n",
      "execution.\n",
      "- Develop Roadmaps for team members, outlining clear goals and milestones.\n",
      "- Explore Emerging Technologies to drive innovation and keep the team ahead\n",
      "of the curve.\n",
      "- Assess Team Members' Performance and provide constructive feedback for\n",
      "growth.\n",
      "  Page 5 of 8   \n",
      "Pippip\n",
      "Founder\n",
      "October 2013 - November 2016 (3 years 2 months)\n",
      "Vietnam\n",
      "We design and develop cutting-edge solutions tailored to the fashion industry,\n",
      "revolutionizing the way people interact with fashion.\n",
      "Our flagship innovations include:\n",
      "- Virtual Reality Dressing Rooms: Enabling customers to try on clothes\n",
      "virtually.\n",
      "- Social Platforms for Fashion Commerce: Connecting shoppers, brands, and\n",
      "influencers in a dynamic online marketplace.\n",
      "These solutions aim to enhance the shopping experience, boost engagement,\n",
      "and drive sales, all while leveraging the latest technologies to provide\n",
      "seamless and interactive user experiences.\n",
      "TMA Solutions\n",
      "2 years 3 months\n",
      "Technical Leader in 3D, Augmented Reality and Image Processing\n",
      "team\n",
      "February 2013 - October 2013 (9 months)\n",
      "TMA Tower\n",
      "My team is a dynamic and innovative group of over ten members, focused on\n",
      "developing high-quality products with global distribution potential. I lead and\n",
      "support the team in the following key activities:\n",
      "- Enhance and Optimize Our 3D Engine for better performance and\n",
      "functionality.\n",
      "- Develop Cutting-Edge Products leveraging 3D, AR, and image processing\n",
      "technologies.\n",
      "- Manage Team Tasks to ensure smooth execution and timely delivery of\n",
      "projects.\n",
      "- Conduct Research in Image Processing to stay at the forefront of\n",
      "technological advancements.\n",
      "  Page 6 of 8   \n",
      "- Collaborate with Partners to create impactful technical demos and proof-of-\n",
      "concept products.\n",
      "- Design and Build Frameworks that streamline development processes and\n",
      "increase productivity.\n",
      "- Support Cross-Functional Teams with expertise in 3D, AR, and image\n",
      "processing.\n",
      "- Explore and Research Future Technologies to shape the direction of\n",
      "upcoming product innovations.\n",
      "SME at TMA SDC\n",
      "August 2011 - March 2013 (1 year 8 months)\n",
      "Ho Chi Minh, Viet Nam\n",
      "- Subject Matter Expert at TMA Student Development Center\n",
      "- Specializing in 2D/3D Technologies to support student projects and\n",
      "development initiatives.\n",
      "MRC Team Leader\n",
      "October 2012 - February 2013 (5 months)\n",
      "Ho Chi Minh, Viet Nam\n",
      "- Exploring Emerging Mobile Technologies to stay ahead of industry trends.\n",
      "- Developing Mobile Frameworks to enhance development efficiency and\n",
      "scalability.\n",
      "- Providing Solutions and Support to assist other teams with their technical\n",
      "challenges.\n",
      "- Focusing on 3D and AR technologies within the MRC team to drive\n",
      "innovation and product development.\n",
      "Mobile developer\n",
      "August 2011 - October 2012 (1 year 3 months)\n",
      "TMA Tower\n",
      "Education\n",
      "  Page 7 of 8   \n",
      "University of Technical Education in Ho Chi Minh city\n",
      "Bachelor's degree, Computer Science · (2006 - 2011)\n",
      "  Page 8 of 8\n"
     ]
    }
   ],
   "source": [
    "print(linkedin)"
   ]
  },
  {
   "cell_type": "code",
   "execution_count": 5,
   "metadata": {},
   "outputs": [],
   "source": [
    "with open(\"me/summary.txt\", \"r\", encoding=\"utf-8\") as f:\n",
    "    summary = f.read()"
   ]
  },
  {
   "cell_type": "code",
   "execution_count": 6,
   "metadata": {},
   "outputs": [],
   "source": [
    "name = \"Hau Vo\""
   ]
  },
  {
   "cell_type": "code",
   "execution_count": 7,
   "metadata": {},
   "outputs": [],
   "source": [
    "system_prompt = f\"You are acting as {name}. You are answering questions on {name}'s website, \\\n",
    "particularly questions related to {name}'s career, background, skills and experience. \\\n",
    "Your responsibility is to represent {name} for interactions on the website as faithfully as possible. \\\n",
    "You are given a summary of {name}'s background and LinkedIn profile which you can use to answer questions. \\\n",
    "Be professional and engaging, as if talking to a potential client or future employer who came across the website. \\\n",
    "If you don't know the answer, say so.\"\n",
    "\n",
    "system_prompt += f\"\\n\\n## Summary:\\n{summary}\\n\\n## LinkedIn Profile:\\n{linkedin}\\n\\n\"\n",
    "system_prompt += f\"With this context, please chat with the user, always staying in character as {name}.\"\n"
   ]
  },
  {
   "cell_type": "code",
   "execution_count": 8,
   "metadata": {},
   "outputs": [
    {
     "data": {
      "text/plain": [
       "\"You are acting as Hau Vo. You are answering questions on Hau Vo's website, particularly questions related to Hau Vo's career, background, skills and experience. Your responsibility is to represent Hau Vo for interactions on the website as faithfully as possible. You are given a summary of Hau Vo's background and LinkedIn profile which you can use to answer questions. Be professional and engaging, as if talking to a potential client or future employer who came across the website. If you don't know the answer, say so.\\n\\n## Summary:\\nMy name is Hau (also goes by Kevin). I’m a product builder, solution architect, and software engineer with over 14 years of experience. I help startups and early-stage companies turn ideas into viable products — from MVPs to scalable systems. \\nHau Vo's Digital Studio\\n+1\\n\\nOriginally from Vietnam, I’ve always been passionate about building things that matter. I write about my journey, side projects, product development, productivity tips, and life on my blog. \\nHau Vo's Digital Studio\\n\\nWhen I’m not coding or designing architectures, I’m a husband and father, drawing inspiration from balancing work and life. I believe great tech comes from clarity of vision, strong communication, and relentless iteration.\\n\\n## LinkedIn Profile:\\n\\xa0 \\xa0\\nContact\\nhau.vophuoc@gmail.com\\nwww.linkedin.com/in/hauvo\\n(LinkedIn)\\nwww.hauvo.me/ (Personal)\\nTop Skills\\nCross-functional Team Leadership\\nEnterprise Software\\nIT Strategy\\nLanguages\\nEnglish (Professional Working)\\nVietnamese (Native or Bilingual)\\nCertifications\\nAI for Everyone\\nHonors-Awards\\nTop 100 for Startup Bootcamp\\nTop 60 StartupWheel 2015 in\\nVietnam\\nSemi-final of StartupWheel 2016\\nFinal-list in GIST bootcamp 2016\\nHau Vo Phuoc\\nStartup-Focused Software Architect | MVP Builder | Ex-CIO\\nHo Chi Minh City, Vietnam\\nSummary\\nI'm passionate about building impactful tech products that solve\\nreal-world problems and improve people’s lives at scale. With a\\ndeep curiosity for innovation, I’m constantly exploring new ideas,\\ntechnologies, and ways to turn vision into usable, scalable software.\\nOver the past decade, I’ve worn many hats—software engineer,\\ntechnical leader, CIO, and startup founder. These diverse roles have\\nshaped me into someone who not only understands how to code but\\nalso how to build products, lead teams, and align technology with\\nbusiness goals.\\nWhat I Bring to the Table:\\nFrom Idea to MVP to Millions of Users\\nI can take a raw idea, define product stories, create wireframes, and\\nturn it into a working MVP. (Sketch is my hobby!)\\nI design scalable architectures that support rapid validation and\\nfuture growth.\\nI plan development roadmaps that align tightly with business\\ntimelines.\\nStrong Technical Leadership & Team Building\\nLed teams of up to 20 across development, QA, and design.\\nI build collaborative, respectful environments where talent thrives.\\nI focus on team success, not egos—and lead with humility, honesty,\\nand support.\\nLifelong Learner & Multi-Domain Thinker\\n\\xa0 Page 1 of 8\\xa0 \\xa0\\nI constantly upskill in tech, product, growth hacking, and decision-\\nmaking.\\nI'm calm under pressure and driven by a desire to solve hard\\nproblems.\\nI’m open to new challenges and love working on meaningful,\\ninnovative ideas.\\nOutside of work, I’m a proud parent who believes family teaches\\nresponsibility in the best way. I enjoy connecting with others over\\nproduct development, startups, new tech—and occasionally, a good\\ngame of table tennis.\\nSpecialties:\\nProduct Development • Technical Architecture • Startup MVPs •\\nTech Team Leadership • Scalable Systems • Product Discovery &\\nBrainstorming\\nLet’s connect if you’d like to talk startups, building tech products, or\\njust share ideas.\\nExperience\\nAyyeka\\nSenior Software Engineer\\nDecember 2020\\xa0-\\xa0Present\\xa0(4 years 10 months)\\nJerusalem, Israel\\nAyyeka delivers end-to-end industrial IoT solutions, combining hardware,\\nsoftware, and machine learning to bring resilience and data intelligence to\\ncritical infrastructure across industries.\\nAt Ayyeka, I play a cross-functional role across multiple teams and products:\\n- Mobile Development: Led development of the AyyekaGo mobile app,\\nenabling field engineers and technicians to connect with Wavelet devices,\\nperform on-site diagnostics, and sync with cloud infrastructure in real time.\\n\\xa0 Page 2 of 8\\xa0 \\xa0\\n- Backend Engineering: Contributed to the FAI Platform—a robust backend\\nsystem for collecting, processing, and monetizing field asset data. Designed\\nscalable APIs, improved system performance, and enhanced reliability for\\nindustrial data workflows.\\n- Frontend Development: Implemented and maintained intuitive, responsive\\ninterfaces for both internal users and external clients, streamlining access to\\ncritical field data and configuration tools.\\n- Cross-Team Collaboration: Worked closely with firmware, hardware, product,\\nand QA teams to ensure seamless integration across the entire IoT stack—\\nfrom edge devices to cloud analytics.\\n- Tech Stack Highlights: Node.js, Angular, ASP.net, Go, MySQL, Docker,\\nAWS, React Native, BLE, CI/CD, and more.\\nMy work supports a wide range of industries—from water utilities to smart\\ncities—helping clients unlock real-time insights and ensure operational\\nresilience in the field.\\nInvygo\\nLead Mobile Engineer\\nJanuary 2019\\xa0-\\xa0December 2020\\xa0(2 years)\\nDubai, United Arab Emirates\\nInvygo is a fast-growing car subscription startup based in Dubai, backed by\\n$2M+ in funding and serving 50K+ users across the UAE and Saudi Arabia.\\nAs one of the earliest engineers, I played a key role in transforming the vision\\ninto a live, scalable product:\\n️ Designed and Built the MVP in Just 1 Month\\nArchitected and developed the initial product from scratch, enabling car\\nbookings and subscriptions with a seamless mobile experience.\\n\\u200d\\u200d Team Leadership\\nLed the mobile engineering team, driving architecture decisions, mentoring\\ndevelopers, and ensuring delivery of high-quality features.\\nScaled Backend for Regional Expansion\\n\\xa0 Page 3 of 8\\xa0 \\xa0\\nContributed significantly (30%+ of my time) to upgrading the backend\\narchitecture, enabling Invygo to scale efficiently across multiple countries.\\nDrove Product & Business Innovation\\nActively contributed ideas to improve user experience, streamline onboarding,\\nand support new subscription models—impacting customer acquisition and\\nretention.\\nLittleLives Inc\\nFront-end Lead Engineer\\nJanuary 2017\\xa0-\\xa0January 2019\\xa0(2 years 1 month)\\nSingapore\\nLittleLives is an EdTech company providing digital solutions to help\\nschools, teachers, parents, and students streamline daily operations and\\ncommunication.\\nAs part of a small but highly capable engineering team, I contributed across\\nthe full stack—from backend services to mobile and web applications—driving\\nmeaningful impact for thousands of educators and families.\\nKey Contributions:\\nFull-Stack Development Across Multiple Products\\nWorked on both mobile (React Native) and web applications (ReactJS,\\nVueJS), as well as backend systems (Elixir, Node.js). Each developer typically\\nowns 2–3 applications, supporting various users—from school staff to parents\\nand students.\\nCo-Creator of the LittleLives Design System 1.0\\nCollaborated closely with design to standardize UI/UX across platforms,\\ninspired by systems from top startups like Airbnb and Dropbox. This improved\\ndevelopment speed and product consistency.\\nBuilt a Scalable Internal UI Component Library\\nLed the development of a Vue.js component library based on the Bulma\\nCSS framework, featuring 35+ modular components. The library enabled fast\\nprototyping and clean, maintainable code across web projects. (Demo: https://\\nteamlittlelives.github.io/six-ui-components/ — link subject to change)\\nCulture of Continuous Learning\\n\\xa0 Page 4 of 8\\xa0 \\xa0\\nAs a team, we embrace learning new technologies and patterns when they\\nbenefit the product and users—constantly evolving to build better tools for\\neducation.\\nAntking\\n2 years 5 months\\nChief Information Officer\\nJanuary 2015\\xa0-\\xa0December 2016\\xa0(2 years)\\nVietnam\\n- Foster a Positive and Collaborative Team Culture\\n- Enhance Team Skills and Competencies through training and development\\ninitiatives.\\n- Conduct Research to Create or Improve Organizational Tools for greater\\nefficiency and productivity.\\n- Identify and Recommend Innovative Business Software Solutions to drive\\noperational improvements.\\n- Collaborate with the Marketing Team to raise awareness and expand\\nAntking’s reach to a wider audience.\\nWeb Team Lead\\nAugust 2014\\xa0-\\xa0January 2015\\xa0(6 months)\\nVietnam\\n- Conduct In-Depth Research to deliver optimal solutions tailored to customer\\nneeds.\\n- Oversee Project Timelines and Resource Allocation to ensure efficient\\nexecution.\\n- Develop Roadmaps for team members, outlining clear goals and milestones.\\n- Explore Emerging Technologies to drive innovation and keep the team ahead\\nof the curve.\\n- Assess Team Members' Performance and provide constructive feedback for\\ngrowth.\\n\\xa0 Page 5 of 8\\xa0 \\xa0\\nPippip\\nFounder\\nOctober 2013\\xa0-\\xa0November 2016\\xa0(3 years 2 months)\\nVietnam\\nWe design and develop cutting-edge solutions tailored to the fashion industry,\\nrevolutionizing the way people interact with fashion.\\nOur flagship innovations include:\\n- Virtual Reality Dressing Rooms: Enabling customers to try on clothes\\nvirtually.\\n- Social Platforms for Fashion Commerce: Connecting shoppers, brands, and\\ninfluencers in a dynamic online marketplace.\\nThese solutions aim to enhance the shopping experience, boost engagement,\\nand drive sales, all while leveraging the latest technologies to provide\\nseamless and interactive user experiences.\\nTMA Solutions\\n2 years 3 months\\nTechnical Leader in 3D, Augmented Reality and Image Processing\\nteam\\nFebruary 2013\\xa0-\\xa0October 2013\\xa0(9 months)\\nTMA Tower\\nMy team is a dynamic and innovative group of over ten members, focused on\\ndeveloping high-quality products with global distribution potential. I lead and\\nsupport the team in the following key activities:\\n- Enhance and Optimize Our 3D Engine for better performance and\\nfunctionality.\\n- Develop Cutting-Edge Products leveraging 3D, AR, and image processing\\ntechnologies.\\n- Manage Team Tasks to ensure smooth execution and timely delivery of\\nprojects.\\n- Conduct Research in Image Processing to stay at the forefront of\\ntechnological advancements.\\n\\xa0 Page 6 of 8\\xa0 \\xa0\\n- Collaborate with Partners to create impactful technical demos and proof-of-\\nconcept products.\\n- Design and Build Frameworks that streamline development processes and\\nincrease productivity.\\n- Support Cross-Functional Teams with expertise in 3D, AR, and image\\nprocessing.\\n- Explore and Research Future Technologies to shape the direction of\\nupcoming product innovations.\\nSME at TMA SDC\\nAugust 2011\\xa0-\\xa0March 2013\\xa0(1 year 8 months)\\nHo Chi Minh, Viet Nam\\n- Subject Matter Expert at TMA Student Development Center\\n- Specializing in 2D/3D Technologies to support student projects and\\ndevelopment initiatives.\\nMRC Team Leader\\nOctober 2012\\xa0-\\xa0February 2013\\xa0(5 months)\\nHo Chi Minh, Viet Nam\\n- Exploring Emerging Mobile Technologies to stay ahead of industry trends.\\n- Developing Mobile Frameworks to enhance development efficiency and\\nscalability.\\n- Providing Solutions and Support to assist other teams with their technical\\nchallenges.\\n- Focusing on 3D and AR technologies within the MRC team to drive\\ninnovation and product development.\\nMobile developer\\nAugust 2011\\xa0-\\xa0October 2012\\xa0(1 year 3 months)\\nTMA Tower\\nEducation\\n\\xa0 Page 7 of 8\\xa0 \\xa0\\nUniversity of Technical Education in Ho Chi Minh city\\nBachelor's degree,\\xa0Computer Science\\xa0·\\xa0(2006\\xa0-\\xa02011)\\n\\xa0 Page 8 of 8\\n\\nWith this context, please chat with the user, always staying in character as Hau Vo.\""
      ]
     },
     "execution_count": 8,
     "metadata": {},
     "output_type": "execute_result"
    }
   ],
   "source": [
    "system_prompt"
   ]
  },
  {
   "cell_type": "code",
   "execution_count": 9,
   "metadata": {},
   "outputs": [],
   "source": [
    "def chat(message, history):\n",
    "    messages = [{\"role\": \"system\", \"content\": system_prompt}] + history + [{\"role\": \"user\", \"content\": message}]\n",
    "    response = openai.chat.completions.create(model=\"gpt-4o-mini\", messages=messages)\n",
    "    return response.choices[0].message.content"
   ]
  },
  {
   "cell_type": "markdown",
   "metadata": {},
   "source": [
    "## Special note for people not using OpenAI\n",
    "\n",
    "Some providers, like Groq, might give an error when you send your second message in the chat.\n",
    "\n",
    "This is because Gradio shoves some extra fields into the history object. OpenAI doesn't mind; but some other models complain.\n",
    "\n",
    "If this happens, the solution is to add this first line to the chat() function above. It cleans up the history variable:\n",
    "\n",
    "```python\n",
    "history = [{\"role\": h[\"role\"], \"content\": h[\"content\"]} for h in history]\n",
    "```\n",
    "\n",
    "You may need to add this in other chat() callback functions in the future, too."
   ]
  },
  {
   "cell_type": "code",
   "execution_count": 10,
   "metadata": {},
   "outputs": [
    {
     "name": "stdout",
     "output_type": "stream",
     "text": [
      "* Running on local URL:  http://127.0.0.1:7860\n",
      "* To create a public link, set `share=True` in `launch()`.\n"
     ]
    },
    {
     "data": {
      "text/html": [
       "<div><iframe src=\"http://127.0.0.1:7860/\" width=\"100%\" height=\"500\" allow=\"autoplay; camera; microphone; clipboard-read; clipboard-write;\" frameborder=\"0\" allowfullscreen></iframe></div>"
      ],
      "text/plain": [
       "<IPython.core.display.HTML object>"
      ]
     },
     "metadata": {},
     "output_type": "display_data"
    },
    {
     "data": {
      "text/plain": []
     },
     "execution_count": 10,
     "metadata": {},
     "output_type": "execute_result"
    }
   ],
   "source": [
    "gr.ChatInterface(chat, type=\"messages\").launch()"
   ]
  },
  {
   "cell_type": "markdown",
   "metadata": {},
   "source": [
    "## A lot is about to happen...\n",
    "\n",
    "1. Be able to ask an LLM to evaluate an answer\n",
    "2. Be able to rerun if the answer fails evaluation\n",
    "3. Put this together into 1 workflow\n",
    "\n",
    "All without any Agentic framework!"
   ]
  },
  {
   "cell_type": "code",
   "execution_count": 11,
   "metadata": {},
   "outputs": [],
   "source": [
    "# Create a Pydantic model for the Evaluation\n",
    "\n",
    "from pydantic import BaseModel\n",
    "\n",
    "class Evaluation(BaseModel):\n",
    "    is_acceptable: bool\n",
    "    feedback: str\n"
   ]
  },
  {
   "cell_type": "code",
   "execution_count": 12,
   "metadata": {},
   "outputs": [],
   "source": [
    "evaluator_system_prompt = f\"You are an evaluator that decides whether a response to a question is acceptable. \\\n",
    "You are provided with a conversation between a User and an Agent. Your task is to decide whether the Agent's latest response is acceptable quality. \\\n",
    "The Agent is playing the role of {name} and is representing {name} on their website. \\\n",
    "The Agent has been instructed to be professional and engaging, as if talking to a potential client or future employer who came across the website. \\\n",
    "The Agent has been provided with context on {name} in the form of their summary and LinkedIn details. Here's the information:\"\n",
    "\n",
    "evaluator_system_prompt += f\"\\n\\n## Summary:\\n{summary}\\n\\n## LinkedIn Profile:\\n{linkedin}\\n\\n\"\n",
    "evaluator_system_prompt += f\"With this context, please evaluate the latest response, replying with whether the response is acceptable and your feedback.\""
   ]
  },
  {
   "cell_type": "code",
   "execution_count": 13,
   "metadata": {},
   "outputs": [],
   "source": [
    "def evaluator_user_prompt(reply, message, history):\n",
    "    user_prompt = f\"Here's the conversation between the User and the Agent: \\n\\n{history}\\n\\n\"\n",
    "    user_prompt += f\"Here's the latest message from the User: \\n\\n{message}\\n\\n\"\n",
    "    user_prompt += f\"Here's the latest response from the Agent: \\n\\n{reply}\\n\\n\"\n",
    "    user_prompt += \"Please evaluate the response, replying with whether it is acceptable and your feedback.\"\n",
    "    return user_prompt"
   ]
  },
  {
   "cell_type": "code",
   "execution_count": 15,
   "metadata": {},
   "outputs": [],
   "source": [
    "import os\n",
    "gemini = OpenAI(\n",
    "    api_key=os.getenv(\"GOOGLE_API_KEY\"), \n",
    "    base_url=\"https://generativelanguage.googleapis.com/v1beta/openai/\"\n",
    ")"
   ]
  },
  {
   "cell_type": "code",
   "execution_count": 16,
   "metadata": {},
   "outputs": [],
   "source": [
    "def evaluate(reply, message, history) -> Evaluation:\n",
    "\n",
    "    messages = [{\"role\": \"system\", \"content\": evaluator_system_prompt}] + [{\"role\": \"user\", \"content\": evaluator_user_prompt(reply, message, history)}]\n",
    "    response = gemini.beta.chat.completions.parse(model=\"gemini-2.0-flash\", messages=messages, response_format=Evaluation)\n",
    "    return response.choices[0].message.parsed"
   ]
  },
  {
   "cell_type": "code",
   "execution_count": 17,
   "metadata": {},
   "outputs": [],
   "source": [
    "messages = [{\"role\": \"system\", \"content\": system_prompt}] + [{\"role\": \"user\", \"content\": \"do you hold a patent?\"}]\n",
    "response = openai.chat.completions.create(model=\"gpt-4o-mini\", messages=messages)\n",
    "reply = response.choices[0].message.content"
   ]
  },
  {
   "cell_type": "code",
   "execution_count": 18,
   "metadata": {},
   "outputs": [
    {
     "data": {
      "text/plain": [
       "'I currently do not hold any patents. My focus has been primarily on product development, software engineering, and building impactful tech solutions. If you have any questions about my projects or experience, feel free to ask!'"
      ]
     },
     "execution_count": 18,
     "metadata": {},
     "output_type": "execute_result"
    }
   ],
   "source": [
    "reply"
   ]
  },
  {
   "cell_type": "code",
   "execution_count": 19,
   "metadata": {},
   "outputs": [
    {
     "data": {
      "text/plain": [
       "Evaluation(is_acceptable=True, feedback='The response is appropriate and truthful. It directly answers the question and invites further inquiries about relevant topics.')"
      ]
     },
     "execution_count": 19,
     "metadata": {},
     "output_type": "execute_result"
    }
   ],
   "source": [
    "evaluate(reply, \"do you hold a patent?\", messages[:1])"
   ]
  },
  {
   "cell_type": "code",
   "execution_count": 20,
   "metadata": {},
   "outputs": [],
   "source": [
    "def rerun(reply, message, history, feedback):\n",
    "    updated_system_prompt = system_prompt + \"\\n\\n## Previous answer rejected\\nYou just tried to reply, but the quality control rejected your reply\\n\"\n",
    "    updated_system_prompt += f\"## Your attempted answer:\\n{reply}\\n\\n\"\n",
    "    updated_system_prompt += f\"## Reason for rejection:\\n{feedback}\\n\\n\"\n",
    "    messages = [{\"role\": \"system\", \"content\": updated_system_prompt}] + history + [{\"role\": \"user\", \"content\": message}]\n",
    "    response = openai.chat.completions.create(model=\"gpt-4o-mini\", messages=messages)\n",
    "    return response.choices[0].message.content"
   ]
  },
  {
   "cell_type": "code",
   "execution_count": 21,
   "metadata": {},
   "outputs": [],
   "source": [
    "def chat(message, history):\n",
    "    if \"patent\" in message:\n",
    "        system = system_prompt + \"\\n\\nEverything in your reply needs to be in pig latin - \\\n",
    "              it is mandatory that you respond only and entirely in pig latin\"\n",
    "    else:\n",
    "        system = system_prompt\n",
    "    messages = [{\"role\": \"system\", \"content\": system}] + history + [{\"role\": \"user\", \"content\": message}]\n",
    "    response = openai.chat.completions.create(model=\"gpt-4o-mini\", messages=messages)\n",
    "    reply =response.choices[0].message.content\n",
    "\n",
    "    evaluation = evaluate(reply, message, history)\n",
    "    \n",
    "    if evaluation.is_acceptable:\n",
    "        print(\"Passed evaluation - returning reply\")\n",
    "    else:\n",
    "        print(\"Failed evaluation - retrying\")\n",
    "        print(evaluation.feedback)\n",
    "        reply = rerun(reply, message, history, evaluation.feedback)       \n",
    "    return reply"
   ]
  },
  {
   "cell_type": "code",
   "execution_count": 22,
   "metadata": {},
   "outputs": [
    {
     "name": "stdout",
     "output_type": "stream",
     "text": [
      "* Running on local URL:  http://127.0.0.1:7861\n",
      "* To create a public link, set `share=True` in `launch()`.\n"
     ]
    },
    {
     "data": {
      "text/html": [
       "<div><iframe src=\"http://127.0.0.1:7861/\" width=\"100%\" height=\"500\" allow=\"autoplay; camera; microphone; clipboard-read; clipboard-write;\" frameborder=\"0\" allowfullscreen></iframe></div>"
      ],
      "text/plain": [
       "<IPython.core.display.HTML object>"
      ]
     },
     "metadata": {},
     "output_type": "display_data"
    },
    {
     "data": {
      "text/plain": []
     },
     "execution_count": 22,
     "metadata": {},
     "output_type": "execute_result"
    },
    {
     "name": "stdout",
     "output_type": "stream",
     "text": [
      "Passed evaluation - returning reply\n",
      "Passed evaluation - returning reply\n",
      "Passed evaluation - returning reply\n"
     ]
    }
   ],
   "source": [
    "gr.ChatInterface(chat, type=\"messages\").launch()"
   ]
  },
  {
   "cell_type": "markdown",
   "metadata": {},
   "source": []
  },
  {
   "cell_type": "code",
   "execution_count": null,
   "metadata": {},
   "outputs": [],
   "source": []
  }
 ],
 "metadata": {
  "kernelspec": {
   "display_name": "agents (3.12.8)",
   "language": "python",
   "name": "python3"
  },
  "language_info": {
   "codemirror_mode": {
    "name": "ipython",
    "version": 3
   },
   "file_extension": ".py",
   "mimetype": "text/x-python",
   "name": "python",
   "nbconvert_exporter": "python",
   "pygments_lexer": "ipython3",
   "version": "3.12.8"
  }
 },
 "nbformat": 4,
 "nbformat_minor": 2
}
